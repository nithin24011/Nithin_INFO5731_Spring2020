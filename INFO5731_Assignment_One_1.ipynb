{
  "nbformat": 4,
  "nbformat_minor": 0,
  "metadata": {
    "colab": {
      "name": "INFO5731_Assignment_One_1.ipynb",
      "provenance": [],
      "collapsed_sections": [],
      "include_colab_link": true
    },
    "kernelspec": {
      "display_name": "Python 3",
      "language": "python",
      "name": "python3"
    },
    "language_info": {
      "codemirror_mode": {
        "name": "ipython",
        "version": 3
      },
      "file_extension": ".py",
      "mimetype": "text/x-python",
      "name": "python",
      "nbconvert_exporter": "python",
      "pygments_lexer": "ipython3",
      "version": "3.7.4"
    }
  },
  "cells": [
    {
      "cell_type": "markdown",
      "metadata": {
        "id": "view-in-github",
        "colab_type": "text"
      },
      "source": [
        "<a href=\"https://colab.research.google.com/github/nithin24011/Nithin_INFO5731_Spring2020/blob/main/INFO5731_Assignment_One_1.ipynb\" target=\"_parent\"><img src=\"https://colab.research.google.com/assets/colab-badge.svg\" alt=\"Open In Colab\"/></a>"
      ]
    },
    {
      "cell_type": "markdown",
      "metadata": {
        "id": "Ryk8D1Q4Wsrp"
      },
      "source": [
        "# **INFO5731 Assignment One**"
      ]
    },
    {
      "cell_type": "markdown",
      "metadata": {
        "id": "90_NR8c5XGWc"
      },
      "source": [
        "# Question 1\n",
        "\n",
        "(20 points). Write a Python program to generate 12 random numbers between 1 and 100. Sort the list of numbers in ascending order and print it out. Sort the list of numbers in descending order and print it out. Calculate the average for the group and print it out."
      ]
    },
    {
      "cell_type": "code",
      "metadata": {
        "colab": {
          "base_uri": "https://localhost:8080/"
        },
        "id": "5QX6bJjGWXY9",
        "outputId": "e6b7e024-4d0c-422f-c27f-112ad398c58d"
      },
      "source": [
        "# Your code here\n",
        "import random\n",
        "random_list = random.sample(range(100), 12)\n",
        "random_list\n",
        "\n"
      ],
      "execution_count": null,
      "outputs": [
        {
          "output_type": "execute_result",
          "data": {
            "text/plain": [
              "[49, 78, 27, 6, 30, 87, 79, 24, 62, 71, 19, 60]"
            ]
          },
          "metadata": {
            "tags": []
          },
          "execution_count": 4
        }
      ]
    },
    {
      "cell_type": "code",
      "metadata": {
        "colab": {
          "base_uri": "https://localhost:8080/"
        },
        "id": "HWVD1C0aDxGF",
        "outputId": "f00a583a-6f64-4f8f-e356-f2ab58fc9aab"
      },
      "source": [
        "random_list.sort()\r\n",
        "print ('Random list in ascending order is:', random_list)\r\n"
      ],
      "execution_count": null,
      "outputs": [
        {
          "output_type": "stream",
          "text": [
            "Random list in ascending order is: [6, 19, 24, 27, 30, 49, 60, 62, 71, 78, 79, 87]\n"
          ],
          "name": "stdout"
        }
      ]
    },
    {
      "cell_type": "code",
      "metadata": {
        "colab": {
          "base_uri": "https://localhost:8080/"
        },
        "id": "_Y1hmu5OD5ES",
        "outputId": "4398368a-f272-445d-df4e-6db2c63c7325"
      },
      "source": [
        "random_list.sort(reverse=True)\r\n",
        "print ('Random list in descending order order is:', random_list)\r\n"
      ],
      "execution_count": null,
      "outputs": [
        {
          "output_type": "stream",
          "text": [
            "Random list in descending order order is: [87, 79, 78, 71, 62, 60, 49, 30, 27, 24, 19, 6]\n"
          ],
          "name": "stdout"
        }
      ]
    },
    {
      "cell_type": "code",
      "metadata": {
        "colab": {
          "base_uri": "https://localhost:8080/"
        },
        "id": "0ayeQn4_D8lK",
        "outputId": "e56590e2-d4b7-4876-9562-9e9a00ec7f06"
      },
      "source": [
        "average = sum(random_list) / len(random_list)\r\n",
        "\r\n",
        "print('The average of numbers in list is:', average)\r\n"
      ],
      "execution_count": null,
      "outputs": [
        {
          "output_type": "stream",
          "text": [
            "The average of numbers in list is: 49.333333333333336\n"
          ],
          "name": "stdout"
        }
      ]
    },
    {
      "cell_type": "markdown",
      "metadata": {
        "id": "1F_PZdH9Sh49"
      },
      "source": [
        "# Question 2\n",
        "(25 points). Write a program that will do the following string formatting tasks:\n",
        "\n",
        "(1) Ask the user to enter two sentences.\n",
        "\n",
        "(2) Make each sentence into a list. Each element in the list should correspond to a word in the sentence. For example, if the sentence is \"Alas! Am I alive? This is my first python program\", the program should print out ['Alas, '!', 'Am', 'I', 'alive, '?', 'This', 'is', 'my', 'first', 'python', 'program'].\n",
        "\n",
        "(3) Compare the two sentences. Print out a list of words that occur in both sentences.\n",
        "\n",
        "(4) Remove any punctuation from the sentence and print it back out. It should remove at least the following characters, but it can remove more: period(“.”), comma (“,”), semicolon (“;”), and colon (“:”)\n",
        "\n",
        "(5) Count the number of vowels in the sentences. Print out each vowel and the number of times it appears in the sentences, such as: a:2, e:1, i:0, etc"
      ]
    },
    {
      "cell_type": "code",
      "metadata": {
        "colab": {
          "base_uri": "https://localhost:8080/"
        },
        "id": "Y0oOSlsOS0cq",
        "outputId": "d50c14f8-711a-4660-fac1-cbdfa811e653"
      },
      "source": [
        "# Your code here\n",
        "sentence1=input(\"Enter the first sentence:\\n \")\n",
        "sentence2=input(\"Enter the second sentence:\\n \")\n",
        "\n"
      ],
      "execution_count": null,
      "outputs": [
        {
          "output_type": "stream",
          "text": [
            "Enter the first sentence:\n",
            " Alas! Am I alive? This is my first python program\n",
            "Enter the second sentence:\n",
            " this is nithin I am a pro at python programming\n"
          ],
          "name": "stdout"
        }
      ]
    },
    {
      "cell_type": "code",
      "metadata": {
        "colab": {
          "base_uri": "https://localhost:8080/"
        },
        "id": "a4T5xkPLE_Mu",
        "outputId": "427446a9-0648-485e-b03d-cd5d812ce1ae"
      },
      "source": [
        "import re\r\n",
        "reg_exp = r\"[0-9a-zA-Z_]+|\\$[\\d\\.]+|\\S+\"\r\n",
        "sen1=re.findall(reg_exp,sentence1)\r\n",
        "sen2=re.findall(reg_exp,sentence2)\r\n",
        "list_final=sen1+sen2\r\n",
        "print(\"The list where each element correspond to a word in the sentence:\")\r\n",
        "print(list_final)\r\n",
        "print(\"The list of words that occur in both sentences are:\")\r\n",
        "for ch in sen1:\r\n",
        "  for ch2 in sen2:\r\n",
        "    if ch==ch2:\r\n",
        "      print(ch)"
      ],
      "execution_count": null,
      "outputs": [
        {
          "output_type": "stream",
          "text": [
            "The list where each element correspond to a word in the sentence:\n",
            "['Alas', '!', 'Am', 'I', 'alive', '?', 'This', 'is', 'my', 'first', 'python', 'program', 'this', 'is', 'nithin', 'I', 'am', 'a', 'pro', 'at', 'python', 'programming']\n",
            "The list of words that occur in both sentences are:\n",
            "I\n",
            "is\n",
            "python\n"
          ],
          "name": "stdout"
        }
      ]
    },
    {
      "cell_type": "code",
      "metadata": {
        "colab": {
          "base_uri": "https://localhost:8080/"
        },
        "id": "1fF60VUyGSMd",
        "outputId": "c918f8ab-48d5-4da0-b368-13b1384d64fb"
      },
      "source": [
        "\r\n",
        "for ch in sen1:\r\n",
        "  for ch2 in sen2:\r\n",
        "    if ch==ch2:\r\n",
        "      print(ch)"
      ],
      "execution_count": null,
      "outputs": [
        {
          "output_type": "stream",
          "text": [
            "I\n",
            "is\n",
            "python\n"
          ],
          "name": "stdout"
        }
      ]
    },
    {
      "cell_type": "code",
      "metadata": {
        "colab": {
          "base_uri": "https://localhost:8080/"
        },
        "id": "9rzs6j2oKwGj",
        "outputId": "9279c114-ef69-42a2-aa32-19142d3d037c"
      },
      "source": [
        "punctuations = '''!()-[]{};:'\"\\,<>./?@#$%^&*_~'''\r\n",
        "sen1_new = \"\"\r\n",
        "sen2_new = \"\"\r\n",
        "for char in sentence1:\r\n",
        "  if char not in punctuations:\r\n",
        "    sen1_new = sen1_new + char\r\n",
        "print(sen1_new)\r\n",
        "\r\n",
        "for char1 in sentence2:\r\n",
        "  if char1 not in punctuations:\r\n",
        "    sen2_new = sen2_new + char1\r\n",
        "print(sen2_new)"
      ],
      "execution_count": null,
      "outputs": [
        {
          "output_type": "stream",
          "text": [
            "Alas Am I alive This is my first python program\n",
            "this is nithin I am a pro at python programming\n"
          ],
          "name": "stdout"
        }
      ]
    },
    {
      "cell_type": "code",
      "metadata": {
        "colab": {
          "base_uri": "https://localhost:8080/"
        },
        "id": "XO2LnOeVLIah",
        "outputId": "8d10d2b3-3196-4442-ad89-255c10f15d6e"
      },
      "source": [
        "sentence1=sentence1.lower()\r\n",
        "sentence2=sentence2.lower()\r\n",
        "vowel_counts = {}\r\n",
        "\r\n",
        "for i in \"aeiou\":\r\n",
        "  count=sentence1.count(i)\r\n",
        "  count1=sentence2.count(i)\r\n",
        "  vowel_counts[i]=count+count1\r\n",
        "vowel_counts"
      ],
      "execution_count": null,
      "outputs": [
        {
          "output_type": "execute_result",
          "data": {
            "text/plain": [
              "{'a': 9, 'e': 1, 'i': 11, 'o': 5, 'u': 0}"
            ]
          },
          "metadata": {
            "tags": []
          },
          "execution_count": 31
        }
      ]
    },
    {
      "cell_type": "code",
      "metadata": {
        "id": "dFCmxiTQNjdl"
      },
      "source": [
        ""
      ],
      "execution_count": null,
      "outputs": []
    },
    {
      "cell_type": "markdown",
      "metadata": {
        "id": "CmFoI4jDS9nx"
      },
      "source": [
        "# Question 3 \n",
        "\n",
        "(15 points). The formula that describes the volume V of a sphere with radius r is the following:\n",
        "\n",
        "$ V=\\frac{4}{3}\\ast\\ \\pi\\ast\\ r^3 $\n",
        "\n",
        "Write a program to calculate the value of V when r is in the range of 1–10. Output the result in the following format:\n",
        "\n",
        "\tr\tV\n",
        "\t1\t…\n",
        "\t2\t…\n",
        "\t3\t…\n"
      ]
    },
    {
      "cell_type": "code",
      "metadata": {
        "colab": {
          "base_uri": "https://localhost:8080/"
        },
        "id": "pEyqeioAT95b",
        "outputId": "fbd35a89-da94-4273-c8b6-007864de0fd2"
      },
      "source": [
        "# Your code here\n",
        "\n",
        "import math\n",
        "def sphere_volume(r):\n",
        "  return (4/3*math.pi*r**3)\n",
        "print ('r     V')\n",
        "for r in range(11):\n",
        "  print (str(r) +\"    \" + str(sphere_volume(r)))\n",
        "  print(\"\\n\")\n"
      ],
      "execution_count": null,
      "outputs": [
        {
          "output_type": "stream",
          "text": [
            "r     V\n",
            "0    0.0\n",
            "\n",
            "\n",
            "1    4.1887902047863905\n",
            "\n",
            "\n",
            "2    33.510321638291124\n",
            "\n",
            "\n",
            "3    113.09733552923254\n",
            "\n",
            "\n",
            "4    268.082573106329\n",
            "\n",
            "\n",
            "5    523.5987755982989\n",
            "\n",
            "\n",
            "6    904.7786842338603\n",
            "\n",
            "\n",
            "7    1436.7550402417319\n",
            "\n",
            "\n",
            "8    2144.660584850632\n",
            "\n",
            "\n",
            "9    3053.6280592892786\n",
            "\n",
            "\n",
            "10    4188.790204786391\n",
            "\n",
            "\n"
          ],
          "name": "stdout"
        }
      ]
    },
    {
      "cell_type": "markdown",
      "metadata": {
        "id": "z3tBE7E-Xn5X"
      },
      "source": [
        "# Question 4\n",
        "\n",
        "(40 points). In the field of Data Science, data is often formatted as a comma-delimited (CSV) file, where each line in a file corresponds to a field's value. Refer to Chapter 9 (p. 106) for more information on comma-delimited files. To answer this question, you will need to download the file [Assignment1_denton_housing.csv](https://github.com/unt-iialab/info5731_spring2021/blob/main/assignment/Assignment1_denton_housing.csv) included with this assignment. The file [Assignment1_denton_housing.csv](https://github.com/unt-iialab/info5731_spring2021/blob/main/assignment/Assignment1_denton_housing.csv) contains statistics about housing in the city of Denton from 2008 to 2014. Write a program to implement the following questions.\n",
        "\n",
        "(1) (10 pts) Calculate the difference in the number of Occupied Housing Units from year to year and print it. The difference must be calculated for the consecutive years such as 2008-2009, 2009-2010 etc. Finally, print the values in the ascending order.\n",
        "\n",
        "(2) (10 pts) For all the years, calculate the percentage of housing units which are vacant an occupied. Print the results in the following format:\n",
        "\n",
        "Year Vacant Housing Units Occupied Housing Units\n",
        "\n",
        "    2008  30%   70%                          \n",
        "\t2009 ----- -----\n",
        "\t2010 ----- -----\n",
        "    2011 ----- -----\n",
        "\t2012 ----- -----\n",
        "    2013 ----- -----\n",
        "\t2014 ----- -----\n",
        "  \n",
        "  \n",
        "\n",
        "(3) (10 pts) Calculate and print the valued and years in which the highest number of housing units were vacant and occupied. Print the results in the following format:  \n",
        "\n",
        "                              Year\tValue\n",
        "\tVacant Housing Units\t  -----   -----\n",
        "\tOccupied Housing Units\t-----   -----\n",
        "\n",
        "(4) (10 pts) Calculate the harmonic mean of the total housing units and print it out. You can find the information about harmonic mean here: https://ncalculators.com/statistics/harmonic-mean-calculator.htm"
      ]
    },
    {
      "cell_type": "code",
      "metadata": {
        "id": "lqGYuHBhcsRH"
      },
      "source": [
        "# Your code here\n",
        "\n",
        "import pandas as pd\n",
        "url = 'https://raw.githubusercontent.com/unt-iialab/info5731_spring2021/main/assignment/Assignment1_denton_housing.csv'\n",
        "df = pd.read_csv(url, error_bad_lines=False)"
      ],
      "execution_count": null,
      "outputs": []
    },
    {
      "cell_type": "code",
      "metadata": {
        "colab": {
          "base_uri": "https://localhost:8080/",
          "height": 266
        },
        "id": "UeMYgLEJQSsY",
        "outputId": "89a6e611-a5bc-4466-add8-1326774bc8bd"
      },
      "source": [
        "df.sort_index(axis=0,ascending=True,inplace=True)\r\n",
        "df2=df[df.title_field==\"Occupied Housing Units\"].sort_index(axis=0,ascending=True)\r\n",
        "df2=df2.reset_index()\r\n",
        "df2\r\n",
        "df1 = df2.sort_values(by = ['year'],ascending =True)\r\n",
        "df1"
      ],
      "execution_count": null,
      "outputs": [
        {
          "output_type": "execute_result",
          "data": {
            "text/html": [
              "<div>\n",
              "<style scoped>\n",
              "    .dataframe tbody tr th:only-of-type {\n",
              "        vertical-align: middle;\n",
              "    }\n",
              "\n",
              "    .dataframe tbody tr th {\n",
              "        vertical-align: top;\n",
              "    }\n",
              "\n",
              "    .dataframe thead th {\n",
              "        text-align: right;\n",
              "    }\n",
              "</style>\n",
              "<table border=\"1\" class=\"dataframe\">\n",
              "  <thead>\n",
              "    <tr style=\"text-align: right;\">\n",
              "      <th></th>\n",
              "      <th>index</th>\n",
              "      <th>year</th>\n",
              "      <th>title_field</th>\n",
              "      <th>value</th>\n",
              "    </tr>\n",
              "  </thead>\n",
              "  <tbody>\n",
              "    <tr>\n",
              "      <th>6</th>\n",
              "      <td>20</td>\n",
              "      <td>2008</td>\n",
              "      <td>Occupied Housing Units</td>\n",
              "      <td>36711</td>\n",
              "    </tr>\n",
              "    <tr>\n",
              "      <th>5</th>\n",
              "      <td>17</td>\n",
              "      <td>2009</td>\n",
              "      <td>Occupied Housing Units</td>\n",
              "      <td>35916</td>\n",
              "    </tr>\n",
              "    <tr>\n",
              "      <th>4</th>\n",
              "      <td>14</td>\n",
              "      <td>2010</td>\n",
              "      <td>Occupied Housing Units</td>\n",
              "      <td>41007</td>\n",
              "    </tr>\n",
              "    <tr>\n",
              "      <th>3</th>\n",
              "      <td>11</td>\n",
              "      <td>2011</td>\n",
              "      <td>Occupied Housing Units</td>\n",
              "      <td>40704</td>\n",
              "    </tr>\n",
              "    <tr>\n",
              "      <th>2</th>\n",
              "      <td>8</td>\n",
              "      <td>2012</td>\n",
              "      <td>Occupied Housing Units</td>\n",
              "      <td>42108</td>\n",
              "    </tr>\n",
              "    <tr>\n",
              "      <th>1</th>\n",
              "      <td>5</td>\n",
              "      <td>2013</td>\n",
              "      <td>Occupied Housing Units</td>\n",
              "      <td>43673</td>\n",
              "    </tr>\n",
              "    <tr>\n",
              "      <th>0</th>\n",
              "      <td>2</td>\n",
              "      <td>2014</td>\n",
              "      <td>Occupied Housing Units</td>\n",
              "      <td>46295</td>\n",
              "    </tr>\n",
              "  </tbody>\n",
              "</table>\n",
              "</div>"
            ],
            "text/plain": [
              "   index  year             title_field  value\n",
              "6     20  2008  Occupied Housing Units  36711\n",
              "5     17  2009  Occupied Housing Units  35916\n",
              "4     14  2010  Occupied Housing Units  41007\n",
              "3     11  2011  Occupied Housing Units  40704\n",
              "2      8  2012  Occupied Housing Units  42108\n",
              "1      5  2013  Occupied Housing Units  43673\n",
              "0      2  2014  Occupied Housing Units  46295"
            ]
          },
          "metadata": {
            "tags": []
          },
          "execution_count": 43
        }
      ]
    },
    {
      "cell_type": "code",
      "metadata": {
        "colab": {
          "base_uri": "https://localhost:8080/"
        },
        "id": "altkQJA2AGFB",
        "outputId": "a038d80e-8113-4e1d-aab7-adfe12b88a93"
      },
      "source": [
        "result = df1['value'].diff()\r\n",
        "result\r\n",
        "\r\n",
        "result.sort_values(ascending= True)"
      ],
      "execution_count": null,
      "outputs": [
        {
          "output_type": "execute_result",
          "data": {
            "text/plain": [
              "5    -795.0\n",
              "3    -303.0\n",
              "2    1404.0\n",
              "1    1565.0\n",
              "0    2622.0\n",
              "4    5091.0\n",
              "6       NaN\n",
              "Name: value, dtype: float64"
            ]
          },
          "metadata": {
            "tags": []
          },
          "execution_count": 44
        }
      ]
    },
    {
      "cell_type": "code",
      "metadata": {
        "id": "b3btfOF0--FN"
      },
      "source": [
        "df.reset_index(inplace=True)\r\n",
        "occupied_list=[]\r\n",
        "vacant_list=[]\r\n",
        "for i in range(2008,2015):\r\n",
        "  occupied_list.append((df[(df[\"year\"]==i) & (df[\"title_field\"]==\"Occupied Housing Units\")].value.values)/(df[(df[\"year\"]==i) & (df[\"title_field\"]==\"Total Housing Units\")].value.values))\r\n",
        "  vacant_list.append((df[(df[\"year\"]==i) & (df[\"title_field\"]==\"Vacant Housing Units\")].value.values)/(df[(df[\"year\"]==i) & (df[\"title_field\"]==\"Total Housing Units\")].value.values))"
      ],
      "execution_count": null,
      "outputs": []
    },
    {
      "cell_type": "code",
      "metadata": {
        "colab": {
          "base_uri": "https://localhost:8080/"
        },
        "id": "a3pvJ4bVA893",
        "outputId": "79f1198b-323f-43fb-8874-bb9b9fc84b29"
      },
      "source": [
        "print(\"Year \\t Vacant\\t Occupied\")\r\n",
        "for i in range(2008,2015):\r\n",
        "  print(i,\"\\t\",np.round(vacant_list[i-2008][0]*100,2),\"\\t\",np.round(occupied_list[i-2008][0]*100,2))\r\n"
      ],
      "execution_count": null,
      "outputs": [
        {
          "output_type": "stream",
          "text": [
            "Year \t Vacant\t Occupied\n",
            "2008 \t 10.88 \t 89.12\n",
            "2009 \t 9.07 \t 90.93\n",
            "2010 \t 8.14 \t 91.86\n",
            "2011 \t 9.38 \t 90.62\n",
            "2012 \t 6.68 \t 93.32\n",
            "2013 \t 8.8 \t 91.2\n",
            "2014 \t 5.73 \t 94.27\n"
          ],
          "name": "stdout"
        }
      ]
    },
    {
      "cell_type": "code",
      "metadata": {
        "colab": {
          "base_uri": "https://localhost:8080/"
        },
        "id": "nRU1GyCuBFl_",
        "outputId": "d4a03d56-5806-4637-9421-fb5e3ab918e4"
      },
      "source": [
        "xy=[]\r\n",
        "yz=[]\r\n",
        "for i in range(2008,2015):\r\n",
        "  xy.append(occupied_list[i-2008][0])\r\n",
        "  yz.append(vacant_list[i-2008][0])\r\n",
        "  print(\"\\t\\t\\t year\\t value\")\r\n",
        "for i in enumerate(occupied_list,start=2008):\r\n",
        "  if(i[1][0]==max(xy)):\r\n",
        "    #print(i[0])\r\n",
        "    print(\"Occupied Housing Units \\t\",i[0],\"\\t\",(df[(df.year==i[0])&(df.title_field==\"Occupied Housing Units\")].value.values)[0])\r\n",
        "    break\r\n",
        "for i in enumerate(vacant_list,start=2008):\r\n",
        "  if(i[1][0]==max(yz)):\r\n",
        "    #print(i[0])\r\n",
        "    print(\"Vacant Housing Units \\t\",i[0],\"\\t\",(df[(df.year==i[0])&(df.title_field==\"Vacant Housing Units\")].value.values)[0])\r\n",
        "    break"
      ],
      "execution_count": null,
      "outputs": [
        {
          "output_type": "stream",
          "text": [
            "\t\t\t year\t value\n",
            "\t\t\t year\t value\n",
            "\t\t\t year\t value\n",
            "\t\t\t year\t value\n",
            "\t\t\t year\t value\n",
            "\t\t\t year\t value\n",
            "\t\t\t year\t value\n",
            "Occupied Housing Units \t 2014 \t 46295\n",
            "Vacant Housing Units \t 2008 \t 4483\n"
          ],
          "name": "stdout"
        }
      ]
    },
    {
      "cell_type": "code",
      "metadata": {
        "colab": {
          "base_uri": "https://localhost:8080/"
        },
        "id": "hFh8oeu8BefT",
        "outputId": "2f352a98-70e7-4354-c2cd-0def5b3da185"
      },
      "source": [
        "!pip install scipy"
      ],
      "execution_count": null,
      "outputs": [
        {
          "output_type": "stream",
          "text": [
            "Requirement already satisfied: scipy in /usr/local/lib/python3.6/dist-packages (1.4.1)\n",
            "Requirement already satisfied: numpy>=1.13.3 in /usr/local/lib/python3.6/dist-packages (from scipy) (1.19.5)\n"
          ],
          "name": "stdout"
        }
      ]
    },
    {
      "cell_type": "code",
      "metadata": {
        "colab": {
          "base_uri": "https://localhost:8080/"
        },
        "id": "Znj8axQBBf5h",
        "outputId": "3d78f2e3-8c84-438b-ddd9-5ebf26038f51"
      },
      "source": [
        "import statistics\r\n",
        "\r\n",
        "all_elements = df.loc[df['title_field'] == 'Total Housing Units', 'value'].values\r\n",
        "#print (total_elements)\r\n",
        "\r\n",
        "statistics.harmonic_mean(all_elements)"
      ],
      "execution_count": null,
      "outputs": [
        {
          "output_type": "execute_result",
          "data": {
            "text/plain": [
              "44398.28543969185"
            ]
          },
          "metadata": {
            "tags": []
          },
          "execution_count": 50
        }
      ]
    }
  ]
}