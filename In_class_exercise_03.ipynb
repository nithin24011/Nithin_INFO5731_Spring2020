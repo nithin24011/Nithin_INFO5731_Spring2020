{
  "nbformat": 4,
  "nbformat_minor": 0,
  "metadata": {
    "kernelspec": {
      "display_name": "Python 3",
      "language": "python",
      "name": "python3"
    },
    "language_info": {
      "codemirror_mode": {
        "name": "ipython",
        "version": 3
      },
      "file_extension": ".py",
      "mimetype": "text/x-python",
      "name": "python",
      "nbconvert_exporter": "python",
      "pygments_lexer": "ipython3",
      "version": "3.7.4"
    },
    "colab": {
      "name": "In-class-exercise-03.ipynb",
      "provenance": [],
      "collapsed_sections": [],
      "include_colab_link": true
    }
  },
  "cells": [
    {
      "cell_type": "markdown",
      "metadata": {
        "id": "view-in-github",
        "colab_type": "text"
      },
      "source": [
        "<a href=\"https://colab.research.google.com/github/nithin24011/Nithin_INFO5731_Spring2020/blob/main/In_class_exercise_03.ipynb\" target=\"_parent\"><img src=\"https://colab.research.google.com/assets/colab-badge.svg\" alt=\"Open In Colab\"/></a>"
      ]
    },
    {
      "cell_type": "markdown",
      "metadata": {
        "id": "me23G6ZjjIS7"
      },
      "source": [
        "## The third In-class-exercise (9/16/2020, 20 points in total)"
      ]
    },
    {
      "cell_type": "markdown",
      "metadata": {
        "id": "IXGFY83ajIS-"
      },
      "source": [
        "The purpose of this exercise is to under users' information needs, then collect the data for analysis."
      ]
    },
    {
      "cell_type": "markdown",
      "metadata": {
        "id": "n8eKW4rhjIS_"
      },
      "source": [
        "Question 1 (8 points): Describe an interesting research question (or practical question) you have in mind, what kind of data should be collected to answer the question(s)? How many data needed for the analysis? The detail steps for collecting and save the data. "
      ]
    },
    {
      "cell_type": "code",
      "metadata": {
        "id": "r6Plb88ljITA"
      },
      "source": [
        "# Your answer here (no code for this question, write down your answer as detail as possible for the above questions):\n",
        "\n",
        "'''\n",
        "Please write you answer here:\n",
        "\n",
        "Research Topic:\n",
        "                Project Euler: Project Euler is a series of challenging mathematical/computer programming problems \n",
        "                that will require more than just mathematical insights to solve. Although mathematics will help you \n",
        "                arrive at elegant and efficient methods, the use of a computer and programming skills will be required\n",
        "                to solve most problems.\n",
        "  \n",
        "  Questions:\n",
        "             1. find 10 most solved beginner programs ?\n",
        "             2. find 10 least solved advanced programs?\n",
        "\n",
        "\n",
        "In Project Euler, there are 715 questions and we need to compile all of them to find the answers to the above questions.\n",
        "To answer the questions, we use 'solved by' function as a number of persons able to solve the particular problem would inform us what degree of complexity these problems are in.\n",
        "\n",
        "Steps to Collect and Save the Data:\n",
        "   Step 1: import Pandas for creating a data frame.\n",
        "   Step 2: import requests for saving the page in a variable from the URL.\n",
        "   Step 3: From bs4 import BeautifulSoup to parse the content present in page \n",
        "   Step 4: Create Required lists for saving data for the data frame and transformations.\n",
        "   Step 5: Use loops to append data into the arrays\n",
        "   Step 6: Create a Data Frame using pandas\n",
        "   Step 7: Download the Data Frame to csv format.\n",
        "\n",
        "\n",
        "'''"
      ],
      "execution_count": null,
      "outputs": []
    },
    {
      "cell_type": "markdown",
      "metadata": {
        "id": "7AVOfSUhjITB"
      },
      "source": [
        "Question 2 (12 points): Write python code to collect 500 items of the data you plan to collect above."
      ]
    },
    {
      "cell_type": "code",
      "metadata": {
        "colab": {
          "base_uri": "https://localhost:8080/",
          "height": 195
        },
        "id": "PlZHfJwOjITC",
        "outputId": "730060ce-3464-48c4-f71b-e555f589a70f"
      },
      "source": [
        "import pandas as pd\n",
        "import requests\n",
        "from bs4 import BeautifulSoup\n",
        "Id = []\n",
        "Id_List = [ ]\n",
        "tableRow = [ ]\n",
        "Description = []\n",
        "Description_List = [ ]\n",
        "Solved_By = []\n",
        "Solved_By_List = [ ]\n",
        "for i in range(1,16):\n",
        " page = requests.get('https://projecteuler.net/archives;page='+ str (i))\n",
        " soup = BeautifulSoup(page.content,'html.parser')\n",
        " Id.append(soup.find_all('td',class_=\"id_column\"))\n",
        " tableRow.append(soup.find_all('tr')) #for loop till\n",
        " Solved_By.append(soup.find_all('div',class_=\"center\"))\n",
        "for item in Id:\n",
        "  for i in range(len(item)):\n",
        "    Id_List.append(int (item[i].get_text()))\n",
        "for item in tableRow:\n",
        "  for i in range(len(item)):\n",
        "    Description.append(item[i].find('a'))\n",
        "for item in Solved_By:\n",
        "  for i in range(len(item)):\n",
        "    Solved_By_List.append(int (item[i].get_text())) \n",
        "Description = list(filter(None.__ne__, Description))\n",
        "for item in Description:\n",
        "  Description_List.append(item.get_text())\n",
        "df= pd.DataFrame({'Id':Id_List,'Description': Description_List,'Solved_By':Solved_By_List})\n",
        "df.to_csv('Euler.csv', index= False)\n",
        "df.head(5)"
      ],
      "execution_count": 24,
      "outputs": [
        {
          "output_type": "execute_result",
          "data": {
            "text/html": [
              "<div>\n",
              "<style scoped>\n",
              "    .dataframe tbody tr th:only-of-type {\n",
              "        vertical-align: middle;\n",
              "    }\n",
              "\n",
              "    .dataframe tbody tr th {\n",
              "        vertical-align: top;\n",
              "    }\n",
              "\n",
              "    .dataframe thead th {\n",
              "        text-align: right;\n",
              "    }\n",
              "</style>\n",
              "<table border=\"1\" class=\"dataframe\">\n",
              "  <thead>\n",
              "    <tr style=\"text-align: right;\">\n",
              "      <th></th>\n",
              "      <th>Id</th>\n",
              "      <th>Description</th>\n",
              "      <th>Solved_By</th>\n",
              "    </tr>\n",
              "  </thead>\n",
              "  <tbody>\n",
              "    <tr>\n",
              "      <th>0</th>\n",
              "      <td>1</td>\n",
              "      <td>Multiples of 3 and 5</td>\n",
              "      <td>965879</td>\n",
              "    </tr>\n",
              "    <tr>\n",
              "      <th>1</th>\n",
              "      <td>2</td>\n",
              "      <td>Even Fibonacci numbers</td>\n",
              "      <td>769337</td>\n",
              "    </tr>\n",
              "    <tr>\n",
              "      <th>2</th>\n",
              "      <td>3</td>\n",
              "      <td>Largest prime factor</td>\n",
              "      <td>552085</td>\n",
              "    </tr>\n",
              "    <tr>\n",
              "      <th>3</th>\n",
              "      <td>4</td>\n",
              "      <td>Largest palindrome product</td>\n",
              "      <td>487939</td>\n",
              "    </tr>\n",
              "    <tr>\n",
              "      <th>4</th>\n",
              "      <td>5</td>\n",
              "      <td>Smallest multiple</td>\n",
              "      <td>491450</td>\n",
              "    </tr>\n",
              "  </tbody>\n",
              "</table>\n",
              "</div>"
            ],
            "text/plain": [
              "   Id                 Description  Solved_By\n",
              "0   1        Multiples of 3 and 5     965879\n",
              "1   2      Even Fibonacci numbers     769337\n",
              "2   3        Largest prime factor     552085\n",
              "3   4  Largest palindrome product     487939\n",
              "4   5           Smallest multiple     491450"
            ]
          },
          "metadata": {
            "tags": []
          },
          "execution_count": 24
        }
      ]
    },
    {
      "cell_type": "code",
      "metadata": {
        "colab": {
          "base_uri": "https://localhost:8080/"
        },
        "id": "3WgRe01AHsNS",
        "outputId": "1e06fad1-354d-4623-8181-b8a683f66b43"
      },
      "source": [
        "df = df.sort_values('Solved_By',ascending= False) # sorting in descending order\r\n",
        "print(\"Top 10 Beginner problems:\\n\\n\",df.head(10)) #top 10 Beginner Level Problems for coders\r\n",
        "print('\\n')\r\n",
        "#Answers for Questions 2\r\n",
        "\r\n",
        "df = df.sort_values('Solved_By',ascending= True) # sorting in ascending order\r\n",
        "print(\"Top 10 Advanced problems:\\n\\n\",df.head(10)) #top 10 Advanced Level Problems for coders"
      ],
      "execution_count": 25,
      "outputs": [
        {
          "output_type": "stream",
          "text": [
            "Top 10 Beginner problems:\n",
            "\n",
            "    Id                  Description  Solved_By\n",
            "0   1         Multiples of 3 and 5     965879\n",
            "1   2       Even Fibonacci numbers     769337\n",
            "2   3         Largest prime factor     552085\n",
            "5   6        Sum square difference     494484\n",
            "4   5            Smallest multiple     491450\n",
            "3   4   Largest palindrome product     487939\n",
            "6   7                10001st prime     422787\n",
            "8   9  Special Pythagorean triplet     358849\n",
            "7   8  Largest product in a series     353548\n",
            "9  10          Summation of primes     328513\n",
            "\n",
            "\n",
            "Top 10 Advanced problems:\n",
            "\n",
            "       Id                      Description  Solved_By\n",
            "695  696                          Mahjong        121\n",
            "701  702                     Jumping Flea        123\n",
            "728  729       Range of periodic sequence        124\n",
            "729  730      Shifted Pythagorean Triples        129\n",
            "578  579  Lattice points in lattice cubes        134\n",
            "734  735               Divisors of $2n^2$        137\n",
            "643  644              Squares on the line        137\n",
            "565  566                Cake Icing Puzzle        137\n",
            "596  597                          Torpids        139\n",
            "670  671                 Colouring a Loop        141\n"
          ],
          "name": "stdout"
        }
      ]
    }
  ]
}