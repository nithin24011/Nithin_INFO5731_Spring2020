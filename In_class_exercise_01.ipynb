{
  "nbformat": 4,
  "nbformat_minor": 0,
  "metadata": {
    "colab": {
      "name": "In_class_exercise_01.ipynb",
      "provenance": [],
      "collapsed_sections": [],
      "include_colab_link": true
    },
    "kernelspec": {
      "display_name": "Python 3",
      "language": "python",
      "name": "python3"
    },
    "language_info": {
      "codemirror_mode": {
        "name": "ipython",
        "version": 3
      },
      "file_extension": ".py",
      "mimetype": "text/x-python",
      "name": "python",
      "nbconvert_exporter": "python",
      "pygments_lexer": "ipython3",
      "version": "3.7.4"
    }
  },
  "cells": [
    {
      "cell_type": "markdown",
      "metadata": {
        "id": "view-in-github",
        "colab_type": "text"
      },
      "source": [
        "<a href=\"https://colab.research.google.com/github/nithin24011/Nithin_INFO5731_Spring2020/blob/main/In_class_exercise_01.ipynb\" target=\"_parent\"><img src=\"https://colab.research.google.com/assets/colab-badge.svg\" alt=\"Open In Colab\"/></a>"
      ]
    },
    {
      "cell_type": "markdown",
      "metadata": {
        "id": "DymRJbxDBCnf"
      },
      "source": [
        "# **The first In-class-exercise (1/19/2021, 20 points in total)**"
      ]
    },
    {
      "cell_type": "markdown",
      "metadata": {
        "id": "03jb4GZsBkBS"
      },
      "source": [
        "(1) Write a Python program to calculate the length of a string. (2 points)"
      ]
    },
    {
      "cell_type": "code",
      "metadata": {
        "id": "YaGLbSHHB8Ej",
        "colab": {
          "base_uri": "https://localhost:8080/"
        },
        "outputId": "0c800fae-9d43-4e89-9f9a-e0eb8fcab6ce"
      },
      "source": [
        "def string_length(str1):\n",
        "    count = 0\n",
        "    for char in str1:\n",
        "        count += 1\n",
        "    return count\n",
        "s = input(\"Enter your string: \") \n",
        "print('Entered String is : ',s) \n",
        "print('Length of String is : ',string_length(s))\n"
      ],
      "execution_count": null,
      "outputs": [
        {
          "output_type": "stream",
          "text": [
            "Enter your string: Earth\n",
            "Entered String is :  Earth\n",
            "Length of String is :  5\n"
          ],
          "name": "stdout"
        }
      ]
    },
    {
      "cell_type": "markdown",
      "metadata": {
        "id": "jJDe71iLB616"
      },
      "source": [
        "(2) Write a Python program to count the number of characters in a string. (2 points)\n",
        "\n",
        "Sample String : 'google.com‘, \n",
        "\n",
        "Expected Result : {'o': 3, 'g': 2, '.': 1, 'e': 1, 'l': 1, 'm': 1, 'c': 1}"
      ]
    },
    {
      "cell_type": "code",
      "metadata": {
        "id": "MtKskTzbCLaU",
        "colab": {
          "base_uri": "https://localhost:8080/"
        },
        "outputId": "81916745-ed70-428f-ddc5-708fe211a724"
      },
      "source": [
        "s_str = input(\"Enter your string: \") \n",
        "  \n",
        "\n",
        "all_freq = {} \n",
        "  \n",
        "for i in s_str: \n",
        "    if i in all_freq: \n",
        "        all_freq[i] += 1\n",
        "    else: \n",
        "        all_freq[i] = 1\n",
        "   \n",
        "print (\"Count of all characters in the string is :\\n \"\n",
        "                                        +  str(all_freq))"
      ],
      "execution_count": null,
      "outputs": [
        {
          "output_type": "stream",
          "text": [
            "Enter your string: google.com\n",
            "Count of all characters in the string is :\n",
            " {'g': 2, 'o': 3, 'l': 1, 'e': 1, '.': 1, 'c': 1, 'm': 1}\n"
          ],
          "name": "stdout"
        }
      ]
    },
    {
      "cell_type": "markdown",
      "metadata": {
        "id": "55W9AMdXCSpV"
      },
      "source": [
        "(3) Write a Python program to sum all the items in a list. (2 points)"
      ]
    },
    {
      "cell_type": "code",
      "metadata": {
        "id": "I57NXsauCec2",
        "colab": {
          "base_uri": "https://localhost:8080/"
        },
        "outputId": "19b2cc30-f867-4f75-e8b2-31d600cc1ece"
      },
      "source": [
        "list1 = [] \n",
        "  \n",
        "# number of elemetns as input \n",
        "n = int(input(\"Enter number of elements : \")) \n",
        "  \n",
        "# iterating till the range \n",
        "for i in range(0, n): \n",
        "    ele = int(input()) \n",
        "  6\n",
        "    list1.append(ele)  \n",
        "      \n",
        "print(list1)\n",
        "\n",
        "total = sum(list1)\n",
        " \n",
        "print(\"Sum of all elements in given list: \", total)"
      ],
      "execution_count": null,
      "outputs": [
        {
          "output_type": "stream",
          "text": [
            "Enter number of elements : 5\n",
            "5\n",
            "9\n",
            "7\n",
            "66\n",
            "87\n",
            "[5, 9, 7, 66, 87]\n",
            "Sum of all elements in given list:  174\n"
          ],
          "name": "stdout"
        }
      ]
    },
    {
      "cell_type": "markdown",
      "metadata": {
        "id": "4ulBZ6yhCi9F"
      },
      "source": [
        "(4) Write a Python program to get a string from a given string where all occurrences of its first char have been changed to '\\$', except the first char itself. (2 points)\n",
        "\n",
        "Sample String : 'restart‘, \n",
        "\n",
        "Expected Result : 'resta\\$t'"
      ]
    },
    {
      "cell_type": "code",
      "metadata": {
        "id": "Fj0XhwbBCw2o",
        "colab": {
          "base_uri": "https://localhost:8080/"
        },
        "outputId": "dd6e4753-45c3-4d71-b6d5-99cc0d929ae0"
      },
      "source": [
        "s = input(\"Enter your string: \") \n",
        "\n",
        "def change_char(s):\n",
        "  char = s[0]\n",
        "  s = s.replace(char, '$')\n",
        "  s = char + s[1:]\n",
        "\n",
        "  return s\n",
        "\n",
        "print(change_char(s))"
      ],
      "execution_count": null,
      "outputs": [
        {
          "output_type": "stream",
          "text": [
            "Enter your string: restart\n",
            "resta$t\n"
          ],
          "name": "stdout"
        }
      ]
    },
    {
      "cell_type": "markdown",
      "metadata": {
        "id": "_bIP7s1MCzue"
      },
      "source": [
        "(5) Write a program with python which could accept two parameter a and b to calculate and output the result of S, where \n",
        "\n",
        "$\\ S=3.14*(1+a/b)^3$ (3 points)\n",
        "\n"
      ]
    },
    {
      "cell_type": "code",
      "metadata": {
        "id": "w79QilHXD3Mg",
        "colab": {
          "base_uri": "https://localhost:8080/"
        },
        "outputId": "cd4f2206-0e47-4b07-c0e0-ba4c269bc2e5"
      },
      "source": [
        "a = int(input(\"Enter 'a' value: \"))\n",
        "b = int(input(\"Enter 'b' Value: \"))\n",
        "\n",
        "s = 3.14*(1+a/b)**3\n",
        "\n",
        "print(s)\n",
        "\n"
      ],
      "execution_count": null,
      "outputs": [
        {
          "output_type": "stream",
          "text": [
            "Enter 'a' value: 2\n",
            "Enter 'b' Value: 3\n",
            "14.537037037037033\n"
          ],
          "name": "stdout"
        }
      ]
    },
    {
      "cell_type": "markdown",
      "metadata": {
        "id": "xCa2bK9aD4Q3"
      },
      "source": [
        "(6) Write a Python program to concatenate following dictionaries to create a new one. (3 points)\n",
        "\n",
        "Sample Dictionary : dic1={1:10, 2:20}, dic2={3:30, 4:40}, dic3={5:50,6:60}, \n",
        "\n",
        "Expected Result : {1: 10, 2: 20, 3: 30, 4: 40, 5: 50, 6: 60}\n"
      ]
    },
    {
      "cell_type": "code",
      "metadata": {
        "id": "_z4aLqAbEET1",
        "colab": {
          "base_uri": "https://localhost:8080/"
        },
        "outputId": "5fb19f6c-07f3-46a0-8c2c-c0bb456fd4f1"
      },
      "source": [
        "dict1={1:10, 2:20}\n",
        "dict2={3:30, 4:40}\n",
        "dict3={5:50,6:60}\n",
        "# Merge contents of dict3, dict2 and dict1 to dict4\n",
        "dict4 = {**dict1, **dict2, **dict3}\n",
        "print('Dictionary 3 :')\n",
        "print(dict4)"
      ],
      "execution_count": 16,
      "outputs": [
        {
          "output_type": "stream",
          "text": [
            "Dictionary 3 :\n",
            "{1: 10, 2: 20, 3: 30, 4: 40, 5: 50, 6: 60}\n"
          ],
          "name": "stdout"
        }
      ]
    },
    {
      "cell_type": "markdown",
      "metadata": {
        "id": "0v48Vqa7FrQh"
      },
      "source": [
        "(7) Write a Python program to check whether an element exists within a tuple. (3 points)"
      ]
    },
    {
      "cell_type": "code",
      "metadata": {
        "id": "7WEmgq-DF2P1",
        "colab": {
          "base_uri": "https://localhost:8080/"
        },
        "outputId": "f3935522-cf57-42a6-f9ff-2baf324a4438"
      },
      "source": [
        "test_tup = (10, 4, 5, 6, 8)  \n",
        "print(\"The original tuple is : \" + str(test_tup))\n",
        "N = int(input(\"Enter element to be searched : \"))\n",
        "res = False \n",
        "for ele in test_tup : \n",
        "    if N == ele : \n",
        "        res = True\n",
        "        break\n",
        "print(\"Does tuple contain required value ? : \" + str(res))"
      ],
      "execution_count": 29,
      "outputs": [
        {
          "output_type": "stream",
          "text": [
            "The original tuple is : (10, 4, 5, 6, 8)\n",
            "Enter element to be searched : 10\n",
            "Does tuple contain required value ? : True\n"
          ],
          "name": "stdout"
        }
      ]
    },
    {
      "cell_type": "markdown",
      "metadata": {
        "id": "vD5PYLMuGga_"
      },
      "source": [
        "(8) Write a Python program to find maximum and the minimum value in a set. (3 points)"
      ]
    },
    {
      "cell_type": "code",
      "metadata": {
        "id": "t0D5kdJUGjjw",
        "colab": {
          "base_uri": "https://localhost:8080/"
        },
        "outputId": "41743ff2-e328-4fd2-dc57-e2040e211fd9"
      },
      "source": [
        "def MAX(sets): \n",
        "    return (max(sets)) \n",
        "      \n",
        "# Driver Code \n",
        "sets = set([85, 1, 204, 11, 525, 74, 17, 33, 97]) \n",
        "print(\"Maximum of the set is :\",MAX(sets))\n",
        "\n",
        "def MIN(sets):\n",
        "  return(min(sets))\n",
        "print(\"Minimum of the set is :\",MIN(sets))"
      ],
      "execution_count": 30,
      "outputs": [
        {
          "output_type": "stream",
          "text": [
            "Maximum of the set is : 525\n",
            "Minimum of the set is : 1\n"
          ],
          "name": "stdout"
        }
      ]
    },
    {
      "cell_type": "markdown",
      "metadata": {
        "id": "uHkd-y5VhVWC"
      },
      "source": [
        "(9) Write a Python program to randomly divide the students in this class into five groups for term projects, each group should have at least 3 students but no more than 5 students (including 5). Here is the students list: (3 points for extra)\n",
        "\n",
        "studnet_list = ['vmb0067','pc0353','snd0097','yye0005','sg0940','bk0301','rak0120','rrk0058','spk0057','vl0135','nm0547','pn0159',\n",
        "                'msp0174','dd0420','ds0761','rs0850','ss1995','at0739','at0768','mv0299','tv0119','dy0091']"
      ]
    },
    {
      "cell_type": "code",
      "metadata": {
        "id": "3iGbmcOBhTwy",
        "colab": {
          "base_uri": "https://localhost:8080/"
        },
        "outputId": "031b1251-0583-4509-e2c9-d679819856c4"
      },
      "source": [
        "from itertools import islice\n",
        "from random import randint\n",
        "studnet_list = ['vmb0067','pc0353','snd0097','yye0005','sg0940','bk0301','rak0120','rrk0058','spk0057','vl0135','nm0547','pn0159', 'msp0174','dd0420','ds0761','rs0850','ss1995','at0739','at0768','mv0299','tv0119','dy0091']\n",
        "def random_list(studnet_list, mingroup=3, maxgroup=5):\n",
        "    iter_ = iter(studnet_list)\n",
        "    while True:\n",
        "        next = list(islice(iter_,randint(mingroup,maxgroup)))\n",
        "        if next:\n",
        "            yield next\n",
        "        else:\n",
        "            break\n",
        "list(random_list(studnet_list))"
      ],
      "execution_count": 31,
      "outputs": [
        {
          "output_type": "execute_result",
          "data": {
            "text/plain": [
              "[['vmb0067', 'pc0353', 'snd0097'],\n",
              " ['yye0005', 'sg0940', 'bk0301'],\n",
              " ['rak0120', 'rrk0058', 'spk0057', 'vl0135'],\n",
              " ['nm0547', 'pn0159', 'msp0174'],\n",
              " ['dd0420', 'ds0761', 'rs0850'],\n",
              " ['ss1995', 'at0739', 'at0768'],\n",
              " ['mv0299', 'tv0119', 'dy0091']]"
            ]
          },
          "metadata": {
            "tags": []
          },
          "execution_count": 31
        }
      ]
    }
  ]
}