{
  "nbformat": 4,
  "nbformat_minor": 0,
  "metadata": {
    "colab": {
      "name": "In_class_exercise_02.ipynb",
      "provenance": [],
      "collapsed_sections": [],
      "include_colab_link": true
    },
    "kernelspec": {
      "display_name": "Python 3",
      "language": "python",
      "name": "python3"
    },
    "language_info": {
      "codemirror_mode": {
        "name": "ipython",
        "version": 3
      },
      "file_extension": ".py",
      "mimetype": "text/x-python",
      "name": "python",
      "nbconvert_exporter": "python",
      "pygments_lexer": "ipython3",
      "version": "3.7.4"
    }
  },
  "cells": [
    {
      "cell_type": "markdown",
      "metadata": {
        "id": "view-in-github",
        "colab_type": "text"
      },
      "source": [
        "<a href=\"https://colab.research.google.com/github/nithin24011/Nithin_INFO5731_Spring2020/blob/main/In_class_exercise_02.ipynb\" target=\"_parent\"><img src=\"https://colab.research.google.com/assets/colab-badge.svg\" alt=\"Open In Colab\"/></a>"
      ]
    },
    {
      "cell_type": "markdown",
      "metadata": {
        "id": "oo5bsEh2eeWi"
      },
      "source": [
        "# **The second In-class-exercise (1/27/2021, 20 points in total)**\n"
      ]
    },
    {
      "cell_type": "markdown",
      "metadata": {
        "id": "2sPQ58dIeqgp"
      },
      "source": [
        "(1) Write a Python program to find the duplicate elements in a given array of integers. Return -1 If there are no such elements. (4 points)"
      ]
    },
    {
      "cell_type": "code",
      "metadata": {
        "colab": {
          "base_uri": "https://localhost:8080/"
        },
        "id": "mnrvKMFTeoJR",
        "outputId": "f78d2f3f-17e1-4485-bc0f-8f47cf89aa35"
      },
      "source": [
        "def findDuplicates(arr, Len):\n",
        "     \n",
        "    ifPresent = False\n",
        "    a1 = []\n",
        "    for i in range(Len - 1):\n",
        "        for j in range(i + 1, Len):\n",
        "            if (arr[i] == arr[j]):\n",
        "                if arr[i] in a1:\n",
        "                    break\n",
        "                else:\n",
        "                    a1.append(arr[i])\n",
        "                    ifPresent = True\n",
        " \n",
        "    # If duplicates is present\n",
        "    # then print ArrayList\n",
        "    if (ifPresent):\n",
        "        print(a1, end = \" \")\n",
        "    else:\n",
        "        print(\"-1\")\n",
        " \n",
        "arr = [] \n",
        "  \n",
        "# number of elemetns as input \n",
        "n = int(input(\"Enter number of elements : \")) \n",
        "  \n",
        "# iterating till the range \n",
        "for i in range(0, n): \n",
        "    ele = int(input()) \n",
        "  \n",
        "  \n",
        "    arr.append(ele) \n",
        "      \n",
        " \n",
        "findDuplicates(arr, n)\n",
        " "
      ],
      "execution_count": null,
      "outputs": [
        {
          "output_type": "stream",
          "text": [
            "Enter number of elements : 3\n",
            "2\n",
            "6\n",
            "9\n",
            "-1\n"
          ],
          "name": "stdout"
        }
      ]
    },
    {
      "cell_type": "markdown",
      "metadata": {
        "id": "YYrH6n6IhZoQ"
      },
      "source": [
        "(2) Write a Python program to select all the Sundays of a specified year. (4 points)\n",
        "\n"
      ]
    },
    {
      "cell_type": "code",
      "metadata": {
        "colab": {
          "base_uri": "https://localhost:8080/"
        },
        "id": "OSfPLd23eLpX",
        "outputId": "7281a1fe-aa48-43f2-f59e-1fb8c5349899"
      },
      "source": [
        "from datetime import date, timedelta  \n",
        "  \n",
        "def all_sundays(year):  \n",
        "# January 1st of the given year  \n",
        "       dt = date(year, 1, 1)  \n",
        "# First Sunday of the given year         \n",
        "       dt += timedelta(days = 6 - dt.weekday())    \n",
        "       while dt.year == year:  \n",
        "          yield dt  \n",
        "          dt += timedelta(days = 7)  \n",
        "            \n",
        "for s in all_sundays(2021):  \n",
        "   print(s)  \n",
        "\n",
        "\n"
      ],
      "execution_count": null,
      "outputs": [
        {
          "output_type": "stream",
          "text": [
            "2021-01-03\n",
            "2021-01-10\n",
            "2021-01-17\n",
            "2021-01-24\n",
            "2021-01-31\n",
            "2021-02-07\n",
            "2021-02-14\n",
            "2021-02-21\n",
            "2021-02-28\n",
            "2021-03-07\n",
            "2021-03-14\n",
            "2021-03-21\n",
            "2021-03-28\n",
            "2021-04-04\n",
            "2021-04-11\n",
            "2021-04-18\n",
            "2021-04-25\n",
            "2021-05-02\n",
            "2021-05-09\n",
            "2021-05-16\n",
            "2021-05-23\n",
            "2021-05-30\n",
            "2021-06-06\n",
            "2021-06-13\n",
            "2021-06-20\n",
            "2021-06-27\n",
            "2021-07-04\n",
            "2021-07-11\n",
            "2021-07-18\n",
            "2021-07-25\n",
            "2021-08-01\n",
            "2021-08-08\n",
            "2021-08-15\n",
            "2021-08-22\n",
            "2021-08-29\n",
            "2021-09-05\n",
            "2021-09-12\n",
            "2021-09-19\n",
            "2021-09-26\n",
            "2021-10-03\n",
            "2021-10-10\n",
            "2021-10-17\n",
            "2021-10-24\n",
            "2021-10-31\n",
            "2021-11-07\n",
            "2021-11-14\n",
            "2021-11-21\n",
            "2021-11-28\n",
            "2021-12-05\n",
            "2021-12-12\n",
            "2021-12-19\n",
            "2021-12-26\n"
          ],
          "name": "stdout"
        }
      ]
    },
    {
      "cell_type": "markdown",
      "metadata": {
        "id": "UIpziZ6Sjie-"
      },
      "source": [
        "(3) Python files reading and writing. Download the “[exercise_02_data _collection.zip](https://github.com/unt-iialab/info5731_spring2021/blob/main/class_exercises/exercise_02_data_collection.zip)” to your local and un-zip it.\n",
        "\n",
        "*   Write a program to read all the txt files and save the sentences in all the files into one csv file with two columns, the first column is sentence id (txt file name+sentence line number), the second column is the sentence text content. (4 points)\n",
        "*   Remove all the punctuations from the sentences, save the processed sentences into a new column in the same csv file. (4 points)\n",
        "*   Ask the user to enter a word, return all the sentences that include this word, three kinds of information should be returned: sentence id, sentence text content, the count that user input word appear in the sentence. (4 points)\n",
        "\n"
      ]
    },
    {
      "cell_type": "code",
      "metadata": {
        "id": "f3CUsrWOj1Xy",
        "colab": {
          "resources": {
            "http://localhost:8080/nbextensions/google.colab/files.js": {
              "data": "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",
              "ok": true,
              "headers": [
                [
                  "content-type",
                  "application/javascript"
                ]
              ],
              "status": 200,
              "status_text": ""
            }
          },
          "base_uri": "https://localhost:8080/",
          "height": 1000
        },
        "outputId": "6d4b16cc-7fc2-4c23-aed8-e75e2b60ee3a"
      },
      "source": [
        "from google.colab import files\r\n",
        "uploaded = files.upload()"
      ],
      "execution_count": 3,
      "outputs": [
        {
          "output_type": "display_data",
          "data": {
            "text/html": [
              "\n",
              "     <input type=\"file\" id=\"files-487c1410-4dc9-4eb6-a7e8-f262f44d1a60\" name=\"files[]\" multiple disabled\n",
              "        style=\"border:none\" />\n",
              "     <output id=\"result-487c1410-4dc9-4eb6-a7e8-f262f44d1a60\">\n",
              "      Upload widget is only available when the cell has been executed in the\n",
              "      current browser session. Please rerun this cell to enable.\n",
              "      </output>\n",
              "      <script src=\"/nbextensions/google.colab/files.js\"></script> "
            ],
            "text/plain": [
              "<IPython.core.display.HTML object>"
            ]
          },
          "metadata": {
            "tags": []
          }
        },
        {
          "output_type": "stream",
          "text": [
            "Saving ARTHROTEC.1.txt to ARTHROTEC.1.txt\n",
            "Saving ARTHROTEC.2.txt to ARTHROTEC.2.txt\n",
            "Saving ARTHROTEC.3.txt to ARTHROTEC.3.txt\n",
            "Saving ARTHROTEC.4.txt to ARTHROTEC.4.txt\n",
            "Saving ARTHROTEC.5.txt to ARTHROTEC.5.txt\n",
            "Saving ARTHROTEC.6.txt to ARTHROTEC.6.txt\n",
            "Saving ARTHROTEC.7.txt to ARTHROTEC.7.txt\n",
            "Saving ARTHROTEC.8.txt to ARTHROTEC.8.txt\n",
            "Saving ARTHROTEC.9.txt to ARTHROTEC.9.txt\n",
            "Saving ARTHROTEC.10.txt to ARTHROTEC.10.txt\n",
            "Saving ARTHROTEC.11.txt to ARTHROTEC.11.txt\n",
            "Saving ARTHROTEC.12.txt to ARTHROTEC.12.txt\n",
            "Saving ARTHROTEC.13.txt to ARTHROTEC.13.txt\n",
            "Saving ARTHROTEC.14.txt to ARTHROTEC.14.txt\n",
            "Saving ARTHROTEC.15.txt to ARTHROTEC.15.txt\n",
            "Saving ARTHROTEC.16.txt to ARTHROTEC.16.txt\n",
            "Saving ARTHROTEC.17.txt to ARTHROTEC.17.txt\n",
            "Saving ARTHROTEC.18.txt to ARTHROTEC.18.txt\n",
            "Saving ARTHROTEC.19.txt to ARTHROTEC.19.txt\n",
            "Saving ARTHROTEC.20.txt to ARTHROTEC.20.txt\n",
            "Saving ARTHROTEC.21.txt to ARTHROTEC.21.txt\n",
            "Saving ARTHROTEC.22.txt to ARTHROTEC.22.txt\n",
            "Saving ARTHROTEC.23.txt to ARTHROTEC.23.txt\n",
            "Saving ARTHROTEC.24.txt to ARTHROTEC.24.txt\n",
            "Saving ARTHROTEC.25.txt to ARTHROTEC.25.txt\n",
            "Saving ARTHROTEC.26.txt to ARTHROTEC.26.txt\n",
            "Saving ARTHROTEC.27.txt to ARTHROTEC.27.txt\n",
            "Saving ARTHROTEC.28.txt to ARTHROTEC.28.txt\n",
            "Saving ARTHROTEC.29.txt to ARTHROTEC.29.txt\n",
            "Saving ARTHROTEC.30.txt to ARTHROTEC.30.txt\n",
            "Saving ARTHROTEC.31.txt to ARTHROTEC.31.txt\n",
            "Saving ARTHROTEC.32.txt to ARTHROTEC.32.txt\n",
            "Saving ARTHROTEC.33.txt to ARTHROTEC.33.txt\n",
            "Saving ARTHROTEC.34.txt to ARTHROTEC.34.txt\n",
            "Saving ARTHROTEC.35.txt to ARTHROTEC.35.txt\n",
            "Saving ARTHROTEC.36.txt to ARTHROTEC.36.txt\n",
            "Saving ARTHROTEC.37.txt to ARTHROTEC.37.txt\n",
            "Saving ARTHROTEC.38.txt to ARTHROTEC.38.txt\n",
            "Saving ARTHROTEC.39.txt to ARTHROTEC.39.txt\n",
            "Saving ARTHROTEC.40.txt to ARTHROTEC.40.txt\n",
            "Saving ARTHROTEC.41.txt to ARTHROTEC.41.txt\n",
            "Saving ARTHROTEC.42.txt to ARTHROTEC.42.txt\n",
            "Saving ARTHROTEC.43.txt to ARTHROTEC.43.txt\n",
            "Saving ARTHROTEC.44.txt to ARTHROTEC.44.txt\n",
            "Saving ARTHROTEC.45.txt to ARTHROTEC.45.txt\n",
            "Saving ARTHROTEC.46.txt to ARTHROTEC.46.txt\n",
            "Saving ARTHROTEC.47.txt to ARTHROTEC.47.txt\n",
            "Saving ARTHROTEC.48.txt to ARTHROTEC.48.txt\n",
            "Saving ARTHROTEC.49.txt to ARTHROTEC.49.txt\n",
            "Saving ARTHROTEC.50.txt to ARTHROTEC.50.txt\n",
            "Saving ARTHROTEC.51.txt to ARTHROTEC.51.txt\n",
            "Saving ARTHROTEC.52.txt to ARTHROTEC.52.txt\n",
            "Saving ARTHROTEC.53.txt to ARTHROTEC.53.txt\n",
            "Saving ARTHROTEC.54.txt to ARTHROTEC.54.txt\n",
            "Saving ARTHROTEC.55.txt to ARTHROTEC.55.txt\n",
            "Saving ARTHROTEC.56.txt to ARTHROTEC.56.txt\n",
            "Saving ARTHROTEC.57.txt to ARTHROTEC.57.txt\n",
            "Saving ARTHROTEC.58.txt to ARTHROTEC.58.txt\n",
            "Saving ARTHROTEC.59.txt to ARTHROTEC.59.txt\n",
            "Saving ARTHROTEC.60.txt to ARTHROTEC.60.txt\n",
            "Saving ARTHROTEC.61.txt to ARTHROTEC.61.txt\n",
            "Saving ARTHROTEC.62.txt to ARTHROTEC.62.txt\n",
            "Saving ARTHROTEC.63.txt to ARTHROTEC.63.txt\n",
            "Saving ARTHROTEC.64.txt to ARTHROTEC.64.txt\n",
            "Saving ARTHROTEC.65.txt to ARTHROTEC.65.txt\n",
            "Saving ARTHROTEC.66.txt to ARTHROTEC.66.txt\n",
            "Saving ARTHROTEC.67.txt to ARTHROTEC.67.txt\n",
            "Saving ARTHROTEC.68.txt to ARTHROTEC.68.txt\n",
            "Saving ARTHROTEC.69.txt to ARTHROTEC.69.txt\n",
            "Saving ARTHROTEC.70.txt to ARTHROTEC.70.txt\n",
            "Saving ARTHROTEC.71.txt to ARTHROTEC.71.txt\n",
            "Saving ARTHROTEC.72.txt to ARTHROTEC.72.txt\n",
            "Saving ARTHROTEC.73.txt to ARTHROTEC.73.txt\n",
            "Saving ARTHROTEC.74.txt to ARTHROTEC.74.txt\n",
            "Saving ARTHROTEC.75.txt to ARTHROTEC.75.txt\n",
            "Saving ARTHROTEC.76.txt to ARTHROTEC.76.txt\n",
            "Saving ARTHROTEC.77.txt to ARTHROTEC.77.txt\n",
            "Saving ARTHROTEC.78.txt to ARTHROTEC.78.txt\n",
            "Saving ARTHROTEC.79.txt to ARTHROTEC.79.txt\n",
            "Saving ARTHROTEC.80.txt to ARTHROTEC.80.txt\n",
            "Saving ARTHROTEC.81.txt to ARTHROTEC.81.txt\n",
            "Saving ARTHROTEC.82.txt to ARTHROTEC.82.txt\n",
            "Saving ARTHROTEC.83.txt to ARTHROTEC.83.txt\n",
            "Saving ARTHROTEC.84.txt to ARTHROTEC.84.txt\n",
            "Saving ARTHROTEC.85.txt to ARTHROTEC.85.txt\n",
            "Saving ARTHROTEC.86.txt to ARTHROTEC.86.txt\n",
            "Saving ARTHROTEC.87.txt to ARTHROTEC.87.txt\n",
            "Saving ARTHROTEC.88.txt to ARTHROTEC.88.txt\n",
            "Saving ARTHROTEC.89.txt to ARTHROTEC.89.txt\n",
            "Saving ARTHROTEC.90.txt to ARTHROTEC.90.txt\n",
            "Saving ARTHROTEC.91.txt to ARTHROTEC.91.txt\n",
            "Saving ARTHROTEC.92.txt to ARTHROTEC.92.txt\n",
            "Saving ARTHROTEC.93.txt to ARTHROTEC.93.txt\n",
            "Saving ARTHROTEC.94.txt to ARTHROTEC.94.txt\n",
            "Saving ARTHROTEC.95.txt to ARTHROTEC.95.txt\n",
            "Saving ARTHROTEC.96.txt to ARTHROTEC.96.txt\n",
            "Saving ARTHROTEC.97.txt to ARTHROTEC.97.txt\n",
            "Saving ARTHROTEC.98.txt to ARTHROTEC.98.txt\n",
            "Saving ARTHROTEC.99.txt to ARTHROTEC.99.txt\n",
            "Saving ARTHROTEC.100.txt to ARTHROTEC.100.txt\n"
          ],
          "name": "stdout"
        }
      ]
    },
    {
      "cell_type": "code",
      "metadata": {
        "colab": {
          "base_uri": "https://localhost:8080/",
          "height": 402
        },
        "id": "Q0WS1qfyI2t0",
        "outputId": "be3d1511-be09-46ce-cad1-8857bd0bbec3"
      },
      "source": [
        "import pandas as pd\r\n",
        "sentence_id = []\r\n",
        "sentence = []\r\n",
        "for files in uploaded:\r\n",
        "  with open(files, 'r') as file:\r\n",
        "    content = file.read()\r\n",
        "    split_content = content.splitlines()\r\n",
        "    for line_number in range(len(split_content)):\r\n",
        "      sentence_id.append(files + '_' +str(line_number))\r\n",
        "      sentence.append(split_content[line_number])\r\n",
        "df = pd.DataFrame(list(zip(sentence_id, sentence)), \r\n",
        "               columns =['Sentence ID', 'Sentence'])\r\n",
        "df.to_csv('output_file.csv', index = False)\r\n",
        "\r\n",
        "import string\r\n",
        "df['After Punctuation Removal'] = df['Sentence'].apply(lambda x:''.join([i for i in x \r\n",
        "                                                  if i not in string.punctuation]))\r\n",
        "df.to_csv('output_file.csv', index = False)\r\n",
        "df"
      ],
      "execution_count": 6,
      "outputs": [
        {
          "output_type": "execute_result",
          "data": {
            "text/html": [
              "<div>\n",
              "<style scoped>\n",
              "    .dataframe tbody tr th:only-of-type {\n",
              "        vertical-align: middle;\n",
              "    }\n",
              "\n",
              "    .dataframe tbody tr th {\n",
              "        vertical-align: top;\n",
              "    }\n",
              "\n",
              "    .dataframe thead th {\n",
              "        text-align: right;\n",
              "    }\n",
              "</style>\n",
              "<table border=\"1\" class=\"dataframe\">\n",
              "  <thead>\n",
              "    <tr style=\"text-align: right;\">\n",
              "      <th></th>\n",
              "      <th>Sentence ID</th>\n",
              "      <th>Sentence</th>\n",
              "      <th>After Punctuation Removal</th>\n",
              "    </tr>\n",
              "  </thead>\n",
              "  <tbody>\n",
              "    <tr>\n",
              "      <th>0</th>\n",
              "      <td>ARTHROTEC.1.txt_0</td>\n",
              "      <td>I feel a bit drowsy &amp; have a little blurred vi...</td>\n",
              "      <td>I feel a bit drowsy  have a little blurred vis...</td>\n",
              "    </tr>\n",
              "    <tr>\n",
              "      <th>1</th>\n",
              "      <td>ARTHROTEC.1.txt_1</td>\n",
              "      <td>I've been on Arthrotec 50 for over 10 years on...</td>\n",
              "      <td>Ive been on Arthrotec 50 for over 10 years on ...</td>\n",
              "    </tr>\n",
              "    <tr>\n",
              "      <th>2</th>\n",
              "      <td>ARTHROTEC.1.txt_2</td>\n",
              "      <td>Due to my arthritis getting progressively wors...</td>\n",
              "      <td>Due to my arthritis getting progressively wors...</td>\n",
              "    </tr>\n",
              "    <tr>\n",
              "      <th>3</th>\n",
              "      <td>ARTHROTEC.1.txt_3</td>\n",
              "      <td>every day for the next month to see how I get ...</td>\n",
              "      <td>every day for the next month to see how I get ...</td>\n",
              "    </tr>\n",
              "    <tr>\n",
              "      <th>4</th>\n",
              "      <td>ARTHROTEC.1.txt_4</td>\n",
              "      <td>So far its been very good, pains almost gone, ...</td>\n",
              "      <td>So far its been very good pains almost gone bu...</td>\n",
              "    </tr>\n",
              "    <tr>\n",
              "      <th>...</th>\n",
              "      <td>...</td>\n",
              "      <td>...</td>\n",
              "      <td>...</td>\n",
              "    </tr>\n",
              "    <tr>\n",
              "      <th>530</th>\n",
              "      <td>ARTHROTEC.100.txt_3</td>\n",
              "      <td>canker sores in my mouth.</td>\n",
              "      <td>canker sores in my mouth</td>\n",
              "    </tr>\n",
              "    <tr>\n",
              "      <th>531</th>\n",
              "      <td>ARTHROTEC.100.txt_4</td>\n",
              "      <td>headache.</td>\n",
              "      <td>headache</td>\n",
              "    </tr>\n",
              "    <tr>\n",
              "      <th>532</th>\n",
              "      <td>ARTHROTEC.100.txt_5</td>\n",
              "      <td>been off for 1 week still have bleeding.</td>\n",
              "      <td>been off for 1 week still have bleeding</td>\n",
              "    </tr>\n",
              "    <tr>\n",
              "      <th>533</th>\n",
              "      <td>ARTHROTEC.100.txt_6</td>\n",
              "      <td>helped my pain alot .</td>\n",
              "      <td>helped my pain alot</td>\n",
              "    </tr>\n",
              "    <tr>\n",
              "      <th>534</th>\n",
              "      <td>ARTHROTEC.100.txt_7</td>\n",
              "      <td>too scared to take this drug again.</td>\n",
              "      <td>too scared to take this drug again</td>\n",
              "    </tr>\n",
              "  </tbody>\n",
              "</table>\n",
              "<p>535 rows × 3 columns</p>\n",
              "</div>"
            ],
            "text/plain": [
              "             Sentence ID  ...                          After Punctuation Removal\n",
              "0      ARTHROTEC.1.txt_0  ...  I feel a bit drowsy  have a little blurred vis...\n",
              "1      ARTHROTEC.1.txt_1  ...  Ive been on Arthrotec 50 for over 10 years on ...\n",
              "2      ARTHROTEC.1.txt_2  ...  Due to my arthritis getting progressively wors...\n",
              "3      ARTHROTEC.1.txt_3  ...  every day for the next month to see how I get ...\n",
              "4      ARTHROTEC.1.txt_4  ...  So far its been very good pains almost gone bu...\n",
              "..                   ...  ...                                                ...\n",
              "530  ARTHROTEC.100.txt_3  ...                           canker sores in my mouth\n",
              "531  ARTHROTEC.100.txt_4  ...                                           headache\n",
              "532  ARTHROTEC.100.txt_5  ...            been off for 1 week still have bleeding\n",
              "533  ARTHROTEC.100.txt_6  ...                               helped my pain alot \n",
              "534  ARTHROTEC.100.txt_7  ...                 too scared to take this drug again\n",
              "\n",
              "[535 rows x 3 columns]"
            ]
          },
          "metadata": {
            "tags": []
          },
          "execution_count": 6
        }
      ]
    },
    {
      "cell_type": "code",
      "metadata": {
        "colab": {
          "base_uri": "https://localhost:8080/",
          "height": 360
        },
        "id": "Mj2j8Ws2JCAh",
        "outputId": "035f5de2-73b2-4a85-a546-4fdea28d1d68"
      },
      "source": [
        "word_2_search = input(\"Please enter word to search : \")\r\n",
        "result_df =df[df['Sentence'].str.contains(word_2_search,na=False)]\r\n",
        "final_df = result_df[['Sentence ID', 'Sentence']]\r\n",
        "final_df['Count of Occurance'] = df['Sentence'].apply(lambda x: x.count(word_2_search))\r\n",
        "final_df"
      ],
      "execution_count": 8,
      "outputs": [
        {
          "output_type": "stream",
          "text": [
            "Please enter word to search : sleep\n"
          ],
          "name": "stdout"
        },
        {
          "output_type": "execute_result",
          "data": {
            "text/html": [
              "<div>\n",
              "<style scoped>\n",
              "    .dataframe tbody tr th:only-of-type {\n",
              "        vertical-align: middle;\n",
              "    }\n",
              "\n",
              "    .dataframe tbody tr th {\n",
              "        vertical-align: top;\n",
              "    }\n",
              "\n",
              "    .dataframe thead th {\n",
              "        text-align: right;\n",
              "    }\n",
              "</style>\n",
              "<table border=\"1\" class=\"dataframe\">\n",
              "  <thead>\n",
              "    <tr style=\"text-align: right;\">\n",
              "      <th></th>\n",
              "      <th>Sentence ID</th>\n",
              "      <th>Sentence</th>\n",
              "      <th>Count of Occurance</th>\n",
              "    </tr>\n",
              "  </thead>\n",
              "  <tbody>\n",
              "    <tr>\n",
              "      <th>9</th>\n",
              "      <td>ARTHROTEC.3.txt_1</td>\n",
              "      <td>Pain so bad it disrupted my sleep co pletely.</td>\n",
              "      <td>1</td>\n",
              "    </tr>\n",
              "    <tr>\n",
              "      <th>14</th>\n",
              "      <td>ARTHROTEC.3.txt_6</td>\n",
              "      <td>Have stopped taking and immediatedly muscle/jo...</td>\n",
              "      <td>1</td>\n",
              "    </tr>\n",
              "    <tr>\n",
              "      <th>42</th>\n",
              "      <td>ARTHROTEC.8.txt_2</td>\n",
              "      <td>Still can't sleep, can't work without pain.</td>\n",
              "      <td>1</td>\n",
              "    </tr>\n",
              "    <tr>\n",
              "      <th>44</th>\n",
              "      <td>ARTHROTEC.9.txt_0</td>\n",
              "      <td>vomitting - I have to fight to not throw up I ...</td>\n",
              "      <td>1</td>\n",
              "    </tr>\n",
              "    <tr>\n",
              "      <th>134</th>\n",
              "      <td>ARTHROTEC.24.txt_2</td>\n",
              "      <td>I ended up having to take additional medicatio...</td>\n",
              "      <td>1</td>\n",
              "    </tr>\n",
              "    <tr>\n",
              "      <th>152</th>\n",
              "      <td>ARTHROTEC.27.txt_2</td>\n",
              "      <td>I am in so much pain that I cannot sleep, nor ...</td>\n",
              "      <td>1</td>\n",
              "    </tr>\n",
              "    <tr>\n",
              "      <th>269</th>\n",
              "      <td>ARTHROTEC.47.txt_0</td>\n",
              "      <td>after taking just one dose, had hunger feeling...</td>\n",
              "      <td>1</td>\n",
              "    </tr>\n",
              "    <tr>\n",
              "      <th>337</th>\n",
              "      <td>ARTHROTEC.61.txt_2</td>\n",
              "      <td>Now I can sleep at night and do most activities.</td>\n",
              "      <td>1</td>\n",
              "    </tr>\n",
              "    <tr>\n",
              "      <th>455</th>\n",
              "      <td>ARTHROTEC.85.txt_3</td>\n",
              "      <td>Dizziness while rolling over while sleeping an...</td>\n",
              "      <td>1</td>\n",
              "    </tr>\n",
              "    <tr>\n",
              "      <th>526</th>\n",
              "      <td>ARTHROTEC.99.txt_5</td>\n",
              "      <td>It also allows me to sleep.</td>\n",
              "      <td>1</td>\n",
              "    </tr>\n",
              "  </tbody>\n",
              "</table>\n",
              "</div>"
            ],
            "text/plain": [
              "            Sentence ID  ... Count of Occurance\n",
              "9     ARTHROTEC.3.txt_1  ...                  1\n",
              "14    ARTHROTEC.3.txt_6  ...                  1\n",
              "42    ARTHROTEC.8.txt_2  ...                  1\n",
              "44    ARTHROTEC.9.txt_0  ...                  1\n",
              "134  ARTHROTEC.24.txt_2  ...                  1\n",
              "152  ARTHROTEC.27.txt_2  ...                  1\n",
              "269  ARTHROTEC.47.txt_0  ...                  1\n",
              "337  ARTHROTEC.61.txt_2  ...                  1\n",
              "455  ARTHROTEC.85.txt_3  ...                  1\n",
              "526  ARTHROTEC.99.txt_5  ...                  1\n",
              "\n",
              "[10 rows x 3 columns]"
            ]
          },
          "metadata": {
            "tags": []
          },
          "execution_count": 8
        }
      ]
    },
    {
      "cell_type": "markdown",
      "metadata": {
        "id": "-12cqmJEpZOh"
      },
      "source": [
        "(4) Install packages nltk, numpy, scipy, pandas, and sklearn on Google Colab. Write a program to test whether they are installed successfully. (3 points for extra)"
      ]
    },
    {
      "cell_type": "code",
      "metadata": {
        "colab": {
          "base_uri": "https://localhost:8080/"
        },
        "id": "f1pn1Zl2qK77",
        "outputId": "fac2ac68-d997-402f-f5a5-4eafb8aed95a"
      },
      "source": [
        "!pip install nltk\r\n",
        "print(\"NEXT PACKAGE\")\r\n",
        "!pip install numpy\r\n",
        "print(\"NEXT PACKAGE\")\r\n",
        "!pip install scipy\r\n",
        "print(\"NEXT PACKAGE\")\r\n",
        "!pip install pandas\r\n",
        "print(\"NEXT PACKAGE\")\r\n",
        "!pip install sklearn\r\n",
        "\r\n",
        "import nltk as nl\r\n",
        "import numpy as np\r\n",
        "import scipy as sc\r\n",
        "import pandas as pd\r\n",
        "import sklearn as sk\r\n",
        "\r\n",
        "print(\"Installed nltk Version is :\",nl.__version__)\r\n",
        "print(\"Installed numpy Version is :\",np.__version__)\r\n",
        "print(\"Installed scipy Version is :\",sc.__version__)\r\n",
        "print(\"Installed pandas Version is :\",pd.__version__)\r\n",
        "print(\"Installed sklearn Version is :\",sk.__version__)"
      ],
      "execution_count": null,
      "outputs": [
        {
          "output_type": "stream",
          "text": [
            "Requirement already satisfied: nltk in /usr/local/lib/python3.6/dist-packages (3.2.5)\n",
            "Requirement already satisfied: six in /usr/local/lib/python3.6/dist-packages (from nltk) (1.15.0)\n",
            "NEXT PACKAGE\n",
            "Requirement already satisfied: numpy in /usr/local/lib/python3.6/dist-packages (1.19.5)\n",
            "NEXT PACKAGE\n",
            "Requirement already satisfied: scipy in /usr/local/lib/python3.6/dist-packages (1.4.1)\n",
            "Requirement already satisfied: numpy>=1.13.3 in /usr/local/lib/python3.6/dist-packages (from scipy) (1.19.5)\n",
            "NEXT PACKAGE\n",
            "Requirement already satisfied: pandas in /usr/local/lib/python3.6/dist-packages (1.1.5)\n",
            "Requirement already satisfied: python-dateutil>=2.7.3 in /usr/local/lib/python3.6/dist-packages (from pandas) (2.8.1)\n",
            "Requirement already satisfied: numpy>=1.15.4 in /usr/local/lib/python3.6/dist-packages (from pandas) (1.19.5)\n",
            "Requirement already satisfied: pytz>=2017.2 in /usr/local/lib/python3.6/dist-packages (from pandas) (2018.9)\n",
            "Requirement already satisfied: six>=1.5 in /usr/local/lib/python3.6/dist-packages (from python-dateutil>=2.7.3->pandas) (1.15.0)\n",
            "NEXT PACKAGE\n",
            "Requirement already satisfied: sklearn in /usr/local/lib/python3.6/dist-packages (0.0)\n",
            "Requirement already satisfied: scikit-learn in /usr/local/lib/python3.6/dist-packages (from sklearn) (0.22.2.post1)\n",
            "Requirement already satisfied: joblib>=0.11 in /usr/local/lib/python3.6/dist-packages (from scikit-learn->sklearn) (1.0.0)\n",
            "Requirement already satisfied: numpy>=1.11.0 in /usr/local/lib/python3.6/dist-packages (from scikit-learn->sklearn) (1.19.5)\n",
            "Requirement already satisfied: scipy>=0.17.0 in /usr/local/lib/python3.6/dist-packages (from scikit-learn->sklearn) (1.4.1)\n",
            "Installed nltk Version is : 3.2.5\n",
            "Installed numpy Version is : 1.19.5\n",
            "Installed scipy Version is : 1.4.1\n",
            "Installed pandas Version is : 1.1.5\n",
            "Installed sklearn Version is : 0.22.2.post1\n"
          ],
          "name": "stdout"
        }
      ]
    }
  ]
}